{
 "cells": [
  {
   "cell_type": "code",
   "execution_count": 80,
   "id": "d346dab6",
   "metadata": {},
   "outputs": [
    {
     "name": "stdout",
     "output_type": "stream",
     "text": [
      "200\n",
      "The house is built, / \n",
      "The beds made, and see how it comes undone, but then an enormous ray of sunlight / like a minor flood, imbues the room, and once again we are saved from ourselves / as something rings down the curtain on us gloriously.” #collectiveashbery\n"
     ]
    }
   ],
   "source": [
    "import requests\n",
    "import os\n",
    "import json\n",
    "\n",
    "# To set your environment variables in your terminal run the following line:\n",
    "# export 'BEARER_TOKEN'='<your_bearer_token>'\n",
    "bearer_token = \"AAAAAAAAAAAAAAAAAAAAAC2eYQEAAAAA1idxHQ1U4YFvQO2kiDSrOlW2GRI%3DAFAvR8Gb8M6CjKEJMzFdlY37o1tb1QzHUZ1OgLwTbWu7GLKap0\"\n",
    "\n",
    "search_url = \"https://api.twitter.com/2/tweets/search/recent\"\n",
    "\n",
    "query_params = {'query': '#collectiveashbery','tweet.fields': 'author_id','user.fields': 'location', 'max_results': 25}\n",
    "\n",
    "\n",
    "def bearer_oauth(r):\n",
    "    \"\"\"\n",
    "    Method required by bearer token authentication.\n",
    "    \"\"\"\n",
    "\n",
    "    r.headers[\"Authorization\"] = f\"Bearer {bearer_token}\"\n",
    "    r.headers[\"User-Agent\"] = \"v2RecentSearchPython\"\n",
    "    return r\n",
    "\n",
    "def connect_to_endpoint(url, params):\n",
    "    response = requests.get(url, auth=bearer_oauth, params=params)\n",
    "    print(response.status_code)\n",
    "    if response.status_code != 200:\n",
    "        raise Exception(response.status_code, response.text)\n",
    "    return response.json()\n",
    "\n",
    "def main():\n",
    "    json_response = connect_to_endpoint(search_url, query_params) \n",
    "    #print(json.dumps(json_response, indent=4, sort_keys=True))\n",
    "    #print(json_response[\"data\"][\"result_count\"])\n",
    "    tweetlist = json_response[\"data\"]\n",
    "    #print(tweetlist[1][\"text\"])\n",
    "    tweets_text = []\n",
    "    for tweet in tweetlist:\n",
    "        tweets_text.append(tweet[\"text\"])\n",
    "    print(tweets_text[10])\n",
    "    #tweets_text2 = []\n",
    "    #[tweets_text2.append(x) for x in tweets_text if x not in tweets_text2]\n",
    "    #for text2 in tweets_text2:\n",
    "        #print(text2)\n",
    "        \n",
    "    \n",
    "        \n",
    "        \n",
    "        \n",
    "                                                                                                                                                                                                                                  \n",
    "\n",
    "\n",
    "if __name__ == \"__main__\":\n",
    "    main()\n"
   ]
  },
  {
   "cell_type": "code",
   "execution_count": 40,
   "id": "0a3a418f",
   "metadata": {},
   "outputs": [
    {
     "ename": "NameError",
     "evalue": "name 'textlist' is not defined",
     "output_type": "error",
     "traceback": [
      "\u001b[0;31m---------------------------------------------------------------------------\u001b[0m",
      "\u001b[0;31mNameError\u001b[0m                                 Traceback (most recent call last)",
      "\u001b[0;32m/var/folders/8l/85f7hkqd7tl9dngh83sldp640000gn/T/ipykernel_26414/3589880748.py\u001b[0m in \u001b[0;36m<module>\u001b[0;34m\u001b[0m\n\u001b[0;32m----> 1\u001b[0;31m \u001b[0mlen\u001b[0m\u001b[0;34m(\u001b[0m\u001b[0mtextlist\u001b[0m\u001b[0;34m)\u001b[0m\u001b[0;34m\u001b[0m\u001b[0;34m\u001b[0m\u001b[0m\n\u001b[0m",
      "\u001b[0;31mNameError\u001b[0m: name 'textlist' is not defined"
     ]
    }
   ],
   "source": [
    "len(textlist)"
   ]
  },
  {
   "cell_type": "code",
   "execution_count": null,
   "id": "585d9a8f",
   "metadata": {},
   "outputs": [],
   "source": []
  }
 ],
 "metadata": {
  "kernelspec": {
   "display_name": "Python 3 (ipykernel)",
   "language": "python",
   "name": "python3"
  },
  "language_info": {
   "codemirror_mode": {
    "name": "ipython",
    "version": 3
   },
   "file_extension": ".py",
   "mimetype": "text/x-python",
   "name": "python",
   "nbconvert_exporter": "python",
   "pygments_lexer": "ipython3",
   "version": "3.9.7"
  }
 },
 "nbformat": 4,
 "nbformat_minor": 5
}
